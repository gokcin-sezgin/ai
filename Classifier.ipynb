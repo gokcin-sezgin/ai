{
 "cells": [
  {
   "cell_type": "code",
   "execution_count": 2,
   "metadata": {},
   "outputs": [],
   "source": [
    "import pandas as pd\n",
    "import numpy as np\n",
    "from sklearn.tree import DecisionTreeClassifier\n",
    "from sklearn.model_selection import train_test_split\n",
    "from sklearn.metrics import accuracy_score\n",
    "from sklearn.tree import export_graphviz\n",
    "from sklearn.metrics import confusion_matrix\n",
    "import matplotlib.pyplot as plt\n",
    "from sklearn.model_selection import cross_val_score\n",
    "from sklearn.ensemble import RandomForestClassifier"
   ]
  },
  {
   "cell_type": "code",
   "execution_count": 3,
   "metadata": {},
   "outputs": [],
   "source": [
    "dataset=pd.read_csv(\"data.csv\")\n",
    "\n"
   ]
  },
  {
   "cell_type": "code",
   "execution_count": 4,
   "metadata": {},
   "outputs": [],
   "source": [
    "dataset.drop(columns=[\"id\",\"Unnamed: 32\"],inplace=True) ##gereksiz kolonlardan kurtuluyoruz\n"
   ]
  },
  {
   "cell_type": "markdown",
   "metadata": {},
   "source": [
    "## data ve target ayırma işlemi"
   ]
  },
  {
   "cell_type": "code",
   "execution_count": 4,
   "metadata": {},
   "outputs": [],
   "source": [
    "X = dataset.iloc[:,1:]\n",
    "y= dataset.iloc[:,0]"
   ]
  },
  {
   "cell_type": "markdown",
   "metadata": {},
   "source": [
    "## Karar ağacıyla sınıflandırma"
   ]
  },
  {
   "cell_type": "code",
   "execution_count": 5,
   "metadata": {
    "scrolled": true
   },
   "outputs": [
    {
     "name": "stdout",
     "output_type": "stream",
     "text": [
      "['B' 'B' 'M' 'B' 'B' 'M' 'B' 'M' 'B' 'B' 'B' 'M' 'M' 'B' 'M' 'B' 'B' 'B'\n",
      " 'B' 'M' 'M' 'M' 'M' 'M' 'M' 'M' 'B' 'B' 'B' 'M' 'B' 'M' 'B' 'M' 'B' 'B'\n",
      " 'B' 'B' 'B' 'M' 'M' 'B' 'B' 'M' 'B' 'B' 'B' 'B' 'M' 'B' 'B' 'B' 'B' 'B'\n",
      " 'B' 'M' 'M' 'M' 'B' 'B' 'B' 'M' 'M' 'M' 'M' 'B' 'B' 'M' 'M' 'B' 'B' 'B'\n",
      " 'B' 'B' 'B' 'M' 'M' 'M' 'B' 'B' 'B' 'B' 'B' 'B' 'M' 'M' 'M' 'B' 'B' 'M'\n",
      " 'B' 'M' 'M' 'B' 'B' 'B' 'M' 'M' 'M' 'B' 'M' 'B' 'M' 'M' 'B' 'B' 'M' 'M'\n",
      " 'M' 'B' 'B' 'B' 'M' 'B']\n",
      "Karar ağacı doğruluk değeri: 0.9298245614035088\n"
     ]
    }
   ],
   "source": [
    "dtclassifier = DecisionTreeClassifier(random_state=0)\n",
    "X_train, X_test, y_train, y_test = train_test_split(X,y, train_size = 0.8, test_size =\n",
    "0.2, random_state = 0, stratify = y)\n",
    "dtclassifier.fit(X_train,y_train)\n",
    "test_sonuc = dtclassifier.predict(X_test)\n",
    "print(test_sonuc)\n",
    "print('Karar ağacı doğruluk değeri: ' + str(accuracy_score(test_sonuc, y_test)))\n",
    "\n"
   ]
  },
  {
   "cell_type": "markdown",
   "metadata": {},
   "source": [
    "### Hata matrisi"
   ]
  },
  {
   "cell_type": "code",
   "execution_count": 6,
   "metadata": {},
   "outputs": [
    {
     "name": "stdout",
     "output_type": "stream",
     "text": [
      "[[65  7]\n",
      " [ 1 41]]\n"
     ]
    }
   ],
   "source": [
    "cm = confusion_matrix(y_test, test_sonuc)\n",
    "print(cm)"
   ]
  },
  {
   "cell_type": "code",
   "execution_count": 7,
   "metadata": {},
   "outputs": [
    {
     "data": {
      "image/png": "[encoded data removed]",
      "text/plain": [
       "<Figure size 288x288 with 2 Axes>"
      ]
     },
     "metadata": {
      "needs_background": "light"
     },
     "output_type": "display_data"
    }
   ],
   "source": [
    "plt.matshow(cm)\n",
    "plt.title('Confusion matrix')\n",
    "plt.colorbar()\n",
    "plt.ylabel('True label')\n",
    "plt.xlabel('Predicted label')\n",
    "plt.show()\n"
   ]
  },
  {
   "cell_type": "markdown",
   "metadata": {},
   "source": [
    "## 10 katlı çapraz doğrulama"
   ]
  },
  {
   "cell_type": "code",
   "execution_count": 8,
   "metadata": {},
   "outputs": [
    {
     "name": "stdout",
     "output_type": "stream",
     "text": [
      "[0.96491228 0.84210526 0.9122807  0.89473684 0.92982456 0.89473684\n",
      " 0.9122807  0.94736842 0.92982456 0.94642857]\n"
     ]
    }
   ],
   "source": [
    "print(cross_val_score(dtclassifier, X, y, cv=10))\n"
   ]
  },
  {
   "cell_type": "markdown",
   "metadata": {},
   "source": [
    "### Ağacı görselleştime"
   ]
  },
  {
   "cell_type": "code",
   "execution_count": 9,
   "metadata": {},
   "outputs": [],
   "source": [
    "export_graphviz(dtclassifier, out_file='tree.dot', feature_names=X.columns, class_names=[\"M\",\"B\"], filled=True)"
   ]
  },
  {
   "cell_type": "markdown",
   "metadata": {},
   "source": [
    "## Rasgele Orman ile Sınıflandırma"
   ]
  },
  {
   "cell_type": "code",
   "execution_count": 10,
   "metadata": {},
   "outputs": [
    {
     "name": "stdout",
     "output_type": "stream",
     "text": [
      "Rasgele Orman doğruluk değeri: 0.9649122807017544\n"
     ]
    }
   ],
   "source": [
    "X_train, X_test, y_train, y_test = train_test_split(X, y, test_size=0.2, random_state=42)\n",
    "rfclassifier = RandomForestClassifier(n_estimators=100, criterion='entropy')\n",
    "rfclassifier.fit(X_train,y_train)\n",
    "print (\"Rasgele Orman doğruluk değeri: \"+ str(rfclassifier.score(X_test, y_test)))"
   ]
  },
  {
   "cell_type": "code",
   "execution_count": 11,
   "metadata": {},
   "outputs": [
    {
     "name": "stdout",
     "output_type": "stream",
     "text": [
      "['B' 'M' 'M' 'B' 'B' 'M' 'M' 'M' 'M' 'B' 'B' 'M' 'B' 'M' 'B' 'M' 'B' 'B'\n",
      " 'B' 'M' 'B' 'B' 'M' 'B' 'B' 'B' 'B' 'B' 'B' 'M' 'B' 'B' 'B' 'B' 'B' 'B'\n",
      " 'M' 'B' 'M' 'B' 'B' 'M' 'B' 'B' 'B' 'B' 'B' 'B' 'B' 'B' 'M' 'M' 'B' 'B'\n",
      " 'B' 'B' 'B' 'M' 'M' 'B' 'B' 'M' 'M' 'B' 'B' 'B' 'M' 'M' 'B' 'B' 'M' 'M'\n",
      " 'B' 'M' 'B' 'B' 'B' 'B' 'B' 'B' 'M' 'B' 'B' 'M' 'M' 'M' 'M' 'M' 'B' 'B'\n",
      " 'B' 'B' 'B' 'B' 'B' 'B' 'M' 'M' 'B' 'M' 'M' 'B' 'M' 'M' 'B' 'B' 'B' 'M'\n",
      " 'B' 'B' 'M' 'B' 'B' 'M']\n"
     ]
    }
   ],
   "source": [
    "test_sonuc = rfclassifier.predict(X_test)\n",
    "print(test_sonuc)"
   ]
  },
  {
   "cell_type": "markdown",
   "metadata": {},
   "source": [
    "### Hata Matrisi"
   ]
  },
  {
   "cell_type": "code",
   "execution_count": 12,
   "metadata": {},
   "outputs": [
    {
     "name": "stdout",
     "output_type": "stream",
     "text": [
      "[[70  1]\n",
      " [ 3 40]]\n"
     ]
    }
   ],
   "source": [
    "cm = confusion_matrix(y_test, test_sonuc)\n",
    "print(cm)"
   ]
  },
  {
   "cell_type": "code",
   "execution_count": 13,
   "metadata": {},
   "outputs": [
    {
     "data": {
      "image/png": "[encoded data removed]",
      "text/plain": [
       "<Figure size 288x288 with 2 Axes>"
      ]
     },
     "metadata": {
      "needs_background": "light"
     },
     "output_type": "display_data"
    }
   ],
   "source": [
    "plt.matshow(cm)\n",
    "plt.title('Confusion matrix')\n",
    "plt.colorbar()\n",
    "plt.ylabel('True label')\n",
    "plt.xlabel('Predicted label')\n",
    "plt.show()"
   ]
  },
  {
   "cell_type": "markdown",
   "metadata": {},
   "source": [
    "### 10 katlamalı çapraz doğrulama"
   ]
  },
  {
   "cell_type": "code",
   "execution_count": 14,
   "metadata": {},
   "outputs": [
    {
     "name": "stdout",
     "output_type": "stream",
     "text": [
      "[0.98245614 0.89473684 0.94736842 0.96491228 0.98245614 0.98245614\n",
      " 0.94736842 0.98245614 0.94736842 1.        ]\n"
     ]
    }
   ],
   "source": [
    "print(cross_val_score(rfclassifier, X, y, cv=10))\n"
   ]
  },
  {
   "cell_type": "markdown",
   "metadata": {},
   "source": [
    "## Tahminleme için veri alımı\n"
   ]
  },
  {
   "cell_type": "code",
   "execution_count": 17,
   "metadata": {},
   "outputs": [],
   "source": [
    "def listfloatcevir(list):\n",
    "    for i in range (len(list)):\n",
    "        list[i]=float(list[i])\n",
    "    return list\n",
    "\n"
   ]
  },
  {
   "cell_type": "code",
   "execution_count": 16,
   "metadata": {},
   "outputs": [
    {
     "name": "stdout",
     "output_type": "stream",
     "text": [
      "Veri (virgülle ayırarak)(Çıkmak için 0 giriniz): 16.65,21.38,110,800.6,0.1121,0.1497,0.1525,0.0917,0.1995,0.0633,0.8068,0.9017,5.455,102.6,0.006048,0.01882,0.02741,0.0113,0.01468,0.002801,26.46,31.56,177,2215,0.1805,0.3578,0.4695,0.2095,0.3613,0.09564\n",
      "Random Forest (R)\n",
      "Decision Tree (D)\n",
      "D\n",
      "Tahmin: ['M']\n",
      "Veri (virgülle ayırarak)(Çıkmak için 0 giriniz): 0\n"
     ]
    }
   ],
   "source": [
    "\n",
    "while (True):\n",
    "    girdi = input(\"Veri (virgülle ayırarak)(Çıkmak için 0 giriniz): \")\n",
    "    if girdi==\"0\":\n",
    "        break\n",
    "    \n",
    "    veri= girdi.split(\",\")\n",
    "    if len(veri)!=30:\n",
    "        print(\"doğru veri giriniz\")\n",
    "        continue\n",
    "    \n",
    "    veri=np.array(listfloatcevir(veri))\n",
    "    veri=veri.reshape(1,-1)\n",
    "    sınıflandırıcı=\"\"\n",
    "    while (sınıflandırıcı!=\"R\" and sınıflandırıcı!=\"D\"):\n",
    "        sınıflandırıcı=input(\"Random Forest (R)\\nDecision Tree (D)\\n\")\n",
    "        if sınıflandırıcı==\"R\":\n",
    "            print(\"Tahmin: \"+str(rfclassifier.predict(veri)))\n",
    "        elif sınıflandırıcı==\"D\":\n",
    "            print(\"Tahmin: \"+str(dtclassifier.predict(veri)))\n",
    "        else:\n",
    "            print(\"Yanlış giriş!\")\n",
    "            \n",
    "    "
   ]
  }
 ],
 "metadata": {
  "kernelspec": {
   "display_name": "Python 3",
   "language": "python",
   "name": "python3"
  },
  "language_info": {
   "codemirror_mode": {
    "name": "ipython",
    "version": 3
   },
   "file_extension": ".py",
   "mimetype": "text/x-python",
   "name": "python",
   "nbconvert_exporter": "python",
   "pygments_lexer": "ipython3",
   "version": "3.7.6"
  }
 },
 "nbformat": 4,
 "nbformat_minor": 4
}
